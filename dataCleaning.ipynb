{
 "cells": [
  {
   "cell_type": "code",
   "execution_count": 19,
   "id": "8f055d23",
   "metadata": {},
   "outputs": [],
   "source": [
    "import re\n",
    "import pandas as pd\n",
    "from datetime import datetime\n",
    "\n",
    "df = pd.read_excel('caffe.xlsx')"
   ]
  },
  {
   "cell_type": "markdown",
   "id": "9ef9ce83",
   "metadata": {},
   "source": [
    "# Adjusting quantity"
   ]
  },
  {
   "cell_type": "code",
   "execution_count": 20,
   "id": "2e06a99d",
   "metadata": {},
   "outputs": [],
   "source": [
    "def adjust_quantity(desc, qty, discount):\n",
    "    pattern = r\"(\\d+)\\+(\\d+)\"\n",
    "    match = re.search(pattern, desc)\n",
    "    if match:\n",
    "        x, y = map(int, match.groups())\n",
    "        qty = qty * x + y\n",
    "        desc = re.sub(pattern, \"\", desc).strip()\n",
    "        discount = match.group(0)\n",
    "    return desc, qty, discount\n",
    "\n",
    "\n",
    "def extract_quantity(desc, qty):\n",
    "    pattern = r\"^\\d+(?! SEASONS)\"\n",
    "    match = re.search(pattern, desc)\n",
    "    if match:\n",
    "        x = int(match.group(0))\n",
    "        qty = qty * x\n",
    "        desc = re.sub(pattern, \"\", desc).strip()\n",
    "    return desc, qty"
   ]
  },
  {
   "cell_type": "code",
   "execution_count": 21,
   "id": "7e63dd45",
   "metadata": {},
   "outputs": [],
   "source": [
    "df[\"Discount Type\"] = \"\"\n",
    "\n",
    "df[[\"Item Desc\", \"Quantity\", \"Discount Type\"]] = df.apply(\n",
    "    lambda row: pd.Series(adjust_quantity(row[\"Item Desc\"], row[\"Quantity\"], row[\"Discount Type\"])),\n",
    "    axis=1\n",
    ")\n",
    "\n",
    "df[[\"Item Desc\", \"Quantity\"]] = df.apply(\n",
    "    lambda row: pd.Series(extract_quantity(row[\"Item Desc\"], row[\"Quantity\"])),\n",
    "    axis=1\n",
    ")"
   ]
  },
  {
   "cell_type": "markdown",
   "id": "e75a9255",
   "metadata": {},
   "source": [
    "# Add weekdays"
   ]
  },
  {
   "cell_type": "code",
   "execution_count": 22,
   "id": "6e074e00",
   "metadata": {},
   "outputs": [],
   "source": [
    "def add_day_of_week(date):\n",
    "    wd = ['Monday', 'Tuesday', 'Wednesday', 'Thursday', 'Friday', 'Saturday', 'Sunday']\n",
    "    return wd[date.weekday()]"
   ]
  },
  {
   "cell_type": "code",
   "execution_count": 23,
   "id": "a88c0847",
   "metadata": {},
   "outputs": [],
   "source": [
    "df[\"Week day\"] = df[\"Date\"].apply(add_day_of_week)"
   ]
  },
  {
   "cell_type": "markdown",
   "id": "29d72fc0",
   "metadata": {},
   "source": [
    "# Add weeknumbers"
   ]
  },
  {
   "cell_type": "code",
   "execution_count": 24,
   "id": "5b015d74",
   "metadata": {},
   "outputs": [],
   "source": [
    "df[\"Week number\"] = df[\"Date\"].dt.isocalendar().week\n",
    "df.to_csv('caffe_change.csv', index=False)"
   ]
  },
  {
   "cell_type": "markdown",
   "id": "3e8f4a68",
   "metadata": {},
   "source": [
    "# Add Hour column"
   ]
  },
  {
   "cell_type": "code",
   "execution_count": null,
   "id": "ec5889e5",
   "metadata": {},
   "outputs": [
    {
     "name": "stderr",
     "output_type": "stream",
     "text": [
      "/var/folders/n1/rhpqtbg90rq_85vnsylnfq2r0000gn/T/ipykernel_36887/2284766911.py:2: UserWarning: Could not infer format, so each element will be parsed individually, falling back to `dateutil`. To ensure parsing is consistent and as-expected, please specify a format.\n",
      "  df[\"Hour\"] = pd.to_datetime(df[\"Time\"].astype(str), errors=\"coerce\").dt.hour\n"
     ]
    }
   ],
   "source": [
    "df[\"Hour\"] = pd.to_datetime(df[\"Time\"].astype(str), errors=\"coerce\").dt.hour"
   ]
  },
  {
   "cell_type": "markdown",
   "id": "06540b3f",
   "metadata": {},
   "source": [
    "# Split btl and glss"
   ]
  },
  {
   "cell_type": "code",
   "execution_count": 26,
   "id": "69a8c5f5",
   "metadata": {},
   "outputs": [],
   "source": [
    "df['GLS/BTL'] = df['Item Desc'].apply(\n",
    "    lambda x: 'GLS' if any(w in x.upper() for w in ['GLS', 'GLASS']) \n",
    "    else ('BTL' if any(w in x.upper() for w in ['BTL', 'BOTTLE']) else '')\n",
    ")"
   ]
  },
  {
   "cell_type": "code",
   "execution_count": 27,
   "id": "9a6357e2",
   "metadata": {},
   "outputs": [],
   "source": [
    "df[\"Bottle/Glass\"] = df[\"GLS/BTL\"].map({\"GLS\": \"Glass\", \"BTL\": \"Bottle\"}).fillna(\"\")\n",
    "df.to_csv('caffe_change.csv', index=False)"
   ]
  },
  {
   "cell_type": "markdown",
   "id": "574eaa24",
   "metadata": {},
   "source": [
    "# Add TOPPINGS categorie"
   ]
  },
  {
   "cell_type": "code",
   "execution_count": 28,
   "id": "3c640030",
   "metadata": {},
   "outputs": [],
   "source": [
    "def change_to_toppings(desc, category):\n",
    "    pattern = r'\\b(ADD?)\\b'\n",
    "    match = re.search(pattern, desc)\n",
    "    if match:\n",
    "        desc = re.sub(pattern, \"\", desc).strip()\n",
    "        category = \"ADD-ONS\"\n",
    "    return desc, category\n",
    "\n",
    "\n",
    "df[[\"Item Desc\", \"Category\"]] = df.apply(\n",
    "    lambda row: pd.Series(change_to_toppings(row[\"Item Desc\"], row[\"Category\"])),\n",
    "    axis=1\n",
    ")\n"
   ]
  },
  {
   "cell_type": "markdown",
   "id": "329d73c7",
   "metadata": {},
   "source": [
    "# Write to new csv"
   ]
  },
  {
   "cell_type": "code",
   "execution_count": 29,
   "id": "e3f18628",
   "metadata": {},
   "outputs": [],
   "source": [
    "df.to_excel('caffe_change.xlsx', index=False)"
   ]
  }
 ],
 "metadata": {
  "kernelspec": {
   "display_name": "project",
   "language": "python",
   "name": "python3"
  },
  "language_info": {
   "codemirror_mode": {
    "name": "ipython",
    "version": 3
   },
   "file_extension": ".py",
   "mimetype": "text/x-python",
   "name": "python",
   "nbconvert_exporter": "python",
   "pygments_lexer": "ipython3",
   "version": "3.13.7"
  }
 },
 "nbformat": 4,
 "nbformat_minor": 5
}
