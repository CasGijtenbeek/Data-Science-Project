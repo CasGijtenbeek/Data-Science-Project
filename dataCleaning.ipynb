{
 "cells": [
  {
   "cell_type": "code",
   "execution_count": 40,
   "id": "8f055d23",
   "metadata": {},
   "outputs": [],
   "source": [
    "import re\n",
    "import pandas as pd\n",
    "from datetime import datetime\n",
    "\n",
    "df = pd.read_excel('caffe.xlsx')"
   ]
  },
  {
   "cell_type": "markdown",
   "id": "9ef9ce83",
   "metadata": {},
   "source": [
    "# Adjusting quantity"
   ]
  },
  {
   "cell_type": "code",
   "execution_count": 41,
   "id": "2e06a99d",
   "metadata": {},
   "outputs": [],
   "source": [
    "def adjust_quantity(desc, qty, discount):\n",
    "    pattern = r\"(\\d+)\\+(\\d+)\"\n",
    "    match = re.search(pattern, desc)\n",
    "    if match:\n",
    "        x, y = map(int, match.groups())\n",
    "        qty = qty * x + y\n",
    "        desc = re.sub(pattern, \"\", desc).strip()\n",
    "        discount = match.group(0)\n",
    "    return desc, qty, discount"
   ]
  },
  {
   "cell_type": "code",
   "execution_count": 42,
   "id": "7e63dd45",
   "metadata": {},
   "outputs": [],
   "source": [
    "df[\"Discount Type\"] = \"\"\n",
    "\n",
    "df[[\"Item Desc\", \"Quantity\", \"Discount Type\"]] = df.apply(\n",
    "    lambda row: pd.Series(adjust_quantity(row[\"Item Desc\"], row[\"Quantity\"], row[\"Discount Type\"])),\n",
    "    axis=1\n",
    ")"
   ]
  },
  {
   "cell_type": "markdown",
   "id": "e75a9255",
   "metadata": {},
   "source": [
    "# Add weekdays"
   ]
  },
  {
   "cell_type": "code",
   "execution_count": 43,
   "id": "6e074e00",
   "metadata": {},
   "outputs": [],
   "source": [
    "def add_day_of_week(date):\n",
    "    wd = ['Monday', 'Tuesday', 'Wednesday', 'Thursday', 'Friday', 'Saturday', 'Sunday']\n",
    "    return wd[date.weekday()]"
   ]
  },
  {
   "cell_type": "code",
   "execution_count": 44,
   "id": "a88c0847",
   "metadata": {},
   "outputs": [],
   "source": [
    "df[\"Week day\"] = df[\"Date\"].apply(add_day_of_week)\n",
    "\n",
    "df.to_csv('caffe_change.csv', index=False)"
   ]
  }
 ],
 "metadata": {
  "kernelspec": {
   "display_name": "project",
   "language": "python",
   "name": "python3"
  },
  "language_info": {
   "codemirror_mode": {
    "name": "ipython",
    "version": 3
   },
   "file_extension": ".py",
   "mimetype": "text/x-python",
   "name": "python",
   "nbconvert_exporter": "python",
   "pygments_lexer": "ipython3",
   "version": "3.13.7"
  }
 },
 "nbformat": 4,
 "nbformat_minor": 5
}
